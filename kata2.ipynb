{
 "cells": [
  {
   "cell_type": "markdown",
   "metadata": {},
   "source": [
    "## Para este ejercicio, escribirás una lógica condicional que imprima una advertencia si un asteroide se acerca a la Tierra demasiado rápido. La velocidad del asteroide varía dependiendo de lo cerca que esté del sol, y cualquier velocidad superior a 25 kilómetros por segundo (km/s) merece una advertencia."
   ]
  },
  {
   "cell_type": "code",
   "execution_count": 2,
   "metadata": {},
   "outputs": [
    {
     "name": "stdout",
     "output_type": "stream",
     "text": [
      "Advertencia\n"
     ]
    }
   ],
   "source": [
    "# km/s\n",
    "velocidad_asteroide = 49\n",
    "if velocidad_asteroide > 25:\n",
    "    print(\"Advertencia\")\n",
    "else:\n",
    "    print(\"No hay nada de que preocuparse.\")"
   ]
  },
  {
   "cell_type": "markdown",
   "metadata": {},
   "source": [
    "## Si un asteroide entra en la atmósfera de la Tierra a una velocidad mayor o igual a 20 km/s, a veces produce un rayo de luz que se puede ver desde la Tierra. Escribe la lógica condicional que usa declaraciones if, else, y elif para alertar a las personas de todo el mundo que deben buscar un asteroide en el cielo. ¡Hay uno que se dirige a la tierra ahora a una velocidad de 19 km/s!"
   ]
  },
  {
   "cell_type": "code",
   "execution_count": 1,
   "metadata": {},
   "outputs": [
    {
     "name": "stdout",
     "output_type": "stream",
     "text": [
      "No hay nada que mirar\n"
     ]
    }
   ],
   "source": [
    "#km/a\n",
    "velocidad_asteroide_2 = 19\n",
    "if velocidad_asteroide_2 >= 20:\n",
    "    print(\"Se produce el rayo que se puede ver desde la tierra!\")\n",
    "    print(\"Miren al cielo.\")\n",
    "else:\n",
    "    print(\"No hay nada que mirar\")"
   ]
  },
  {
   "cell_type": "code",
   "execution_count": null,
   "metadata": {},
   "outputs": [],
   "source": [
    "tamaño_asteroide = 30\n",
    "velocidad_asteroide_3 = 29\n",
    "if tamaño_asteroide<25:\n",
    "    print(\"La atmosfera se encarga\")\n",
    "elif tamaño_asteroide>=25 and tamaño_asteroide<1000:\n",
    "    print(\"Causaria mucho daño.\")\n",
    "if velocidad_asteroide_3 >25 and tamaño_asteroide>25:\n",
    "    print(\"advertencia\")\n",
    "elif velocidad_asteroide_3>=20:\n",
    "    print(\"Se produce el rayo en el cielo.\")\n",
    "else:\n",
    "    print(\"No hay nada que mirar.\")"
   ]
  }
 ],
 "metadata": {
  "interpreter": {
   "hash": "e7370f93d1d0cde622a1f8e1c04877d8463912d04d973331ad4851f04de6915a"
  },
  "kernelspec": {
   "display_name": "Python 3.10.2 64-bit",
   "language": "python",
   "name": "python3"
  },
  "language_info": {
   "codemirror_mode": {
    "name": "ipython",
    "version": 3
   },
   "file_extension": ".py",
   "mimetype": "text/x-python",
   "name": "python",
   "nbconvert_exporter": "python",
   "pygments_lexer": "ipython3",
   "version": "3.10.2"
  },
  "orig_nbformat": 4
 },
 "nbformat": 4,
 "nbformat_minor": 2
}
