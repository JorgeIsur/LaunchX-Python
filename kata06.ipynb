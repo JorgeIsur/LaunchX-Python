{
 "cells": [
  {
   "cell_type": "code",
   "execution_count": 1,
   "metadata": {},
   "outputs": [
    {
     "name": "stdout",
     "output_type": "stream",
     "text": [
      "['mercurio', 'venus', 'tierra', 'marte', 'jupiter', 'urano', 'saturno', 'neptuno']\n",
      "Hay un total de 8 planetas\n"
     ]
    }
   ],
   "source": [
    "planetas = ['mercurio','venus','tierra','marte','jupiter','urano','saturno','neptuno']\n",
    "print(planetas)\n",
    "print(f\"Hay un total de {len(planetas)} planetas\")"
   ]
  },
  {
   "cell_type": "code",
   "execution_count": 2,
   "metadata": {},
   "outputs": [
    {
     "name": "stdout",
     "output_type": "stream",
     "text": [
      "Hay un total de 9 planetas\n",
      "El ultimo planeta agregado fue pluton\n"
     ]
    }
   ],
   "source": [
    "planetas.append('pluton')\n",
    "print(f\"Hay un total de {len(planetas)} planetas\")\n",
    "print(f\"El ultimo planeta agregado fue {planetas[len(planetas)-1]}\")"
   ]
  },
  {
   "cell_type": "markdown",
   "metadata": {},
   "source": [
    "## ejercicio 2"
   ]
  },
  {
   "cell_type": "code",
   "execution_count": 3,
   "metadata": {},
   "outputs": [],
   "source": [
    "planets = ['Mercury', 'Venus', 'Earth', 'Mars', 'Jupiter', 'Saturn', 'Neptune']"
   ]
  },
  {
   "cell_type": "code",
   "execution_count": 4,
   "metadata": {},
   "outputs": [
    {
     "name": "stdout",
     "output_type": "stream",
     "text": [
      "El planeta se encuentra en el indice 1\n"
     ]
    }
   ],
   "source": [
    "new_planet = input(\"Ingrese el nombre de un planeta, comenzando con una letra mayuscula:\")\n",
    "indice = planets.index(new_planet)\n",
    "print(f\"El planeta se encuentra en el indice {indice}\")"
   ]
  },
  {
   "cell_type": "code",
   "execution_count": 7,
   "metadata": {},
   "outputs": [
    {
     "name": "stdout",
     "output_type": "stream",
     "text": [
      "Planetas mas cercanos al sol: Mercury\n",
      "Planetas mas lejanos al sol: Earth\n",
      "Planetas mas lejanos al sol: Mars\n",
      "Planetas mas lejanos al sol: Jupiter\n",
      "Planetas mas lejanos al sol: Saturn\n",
      "Planetas mas lejanos al sol: Neptune\n"
     ]
    }
   ],
   "source": [
    "for i in planets:\n",
    "    if planets.index(i)<indice:\n",
    "        print(f\"Planetas mas cercanos al sol: {i}\")\n",
    "    if planets.index(i)>indice:\n",
    "        print(f\"Planetas mas lejanos al sol: {i}\")"
   ]
  },
  {
   "cell_type": "code",
   "execution_count": null,
   "metadata": {},
   "outputs": [],
   "source": []
  }
 ],
 "metadata": {
  "interpreter": {
   "hash": "e7370f93d1d0cde622a1f8e1c04877d8463912d04d973331ad4851f04de6915a"
  },
  "kernelspec": {
   "display_name": "Python 3.10.2 64-bit",
   "language": "python",
   "name": "python3"
  },
  "language_info": {
   "codemirror_mode": {
    "name": "ipython",
    "version": 3
   },
   "file_extension": ".py",
   "mimetype": "text/x-python",
   "name": "python",
   "nbconvert_exporter": "python",
   "pygments_lexer": "ipython3",
   "version": "3.10.2"
  },
  "orig_nbformat": 4
 },
 "nbformat": 4,
 "nbformat_minor": 2
}
