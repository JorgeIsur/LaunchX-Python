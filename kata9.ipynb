{
 "cells": [
  {
   "cell_type": "code",
   "execution_count": 4,
   "metadata": {},
   "outputs": [],
   "source": [
    "def lecturaCombustible(tanque1,tanque2,tanque3):\n",
    "    informe = promedio(tanque1,tanque2,tanque3)\n",
    "    return informe"
   ]
  },
  {
   "cell_type": "code",
   "execution_count": 5,
   "metadata": {},
   "outputs": [
    {
     "name": "stdout",
     "output_type": "stream",
     "text": [
      "83.33333333333333\n"
     ]
    }
   ],
   "source": [
    "print(lecturaCombustible(100,80,70))"
   ]
  },
  {
   "cell_type": "code",
   "execution_count": 3,
   "metadata": {},
   "outputs": [],
   "source": [
    "def promedio(tanque1,tanque2,tanque3):\n",
    "    promedio = (tanque1+tanque2+tanque3)/3\n",
    "    return promedio"
   ]
  },
  {
   "cell_type": "markdown",
   "metadata": {},
   "source": [
    "## Ejercicio 2"
   ]
  },
  {
   "cell_type": "code",
   "execution_count": 6,
   "metadata": {},
   "outputs": [
    {
     "name": "stdout",
     "output_type": "stream",
     "text": [
      "\n",
      "    Mision a Marte\n",
      "    Tiempo de vuelo:30\n",
      "    Hora de prelanzamiento:12\n",
      "    Combustible restante:10000 gal\n",
      "    \n"
     ]
    }
   ],
   "source": [
    "def informe_mision(hora_prelanzamiento,tiempo_vuelo,destino,tanque_externo, tanque_principal):\n",
    "    print(f\"\"\"\n",
    "    Mision a {destino}\n",
    "    Tiempo de vuelo:{tiempo_vuelo}\n",
    "    Hora de prelanzamiento:{hora_prelanzamiento}\n",
    "    Combustible restante:{tanque_principal+tanque_externo} gal\n",
    "    \"\"\")\n",
    "informe_mision(12,30,\"Marte\",2000,8000)"
   ]
  },
  {
   "cell_type": "code",
   "execution_count": 7,
   "metadata": {},
   "outputs": [
    {
     "name": "stdout",
     "output_type": "stream",
     "text": [
      "\n",
      "    Mision a luna\n",
      "    Tiempo total de vuelo: 40 minutos\n",
      "    Combustible restante: 18000\n"
     ]
    }
   ],
   "source": [
    "def informe_mision_2(destino,*minutos,**reservas_fuel):\n",
    "    print(f\"\"\"\n",
    "    Mision a {destino}\n",
    "    Tiempo total de vuelo: {sum(minutos)} minutos\n",
    "    Combustible restante: {sum(reservas_fuel.values())}\"\"\")\n",
    "informe_mision_2(\"luna\",10,15,15,main=3000,external=15000)"
   ]
  },
  {
   "cell_type": "code",
   "execution_count": 9,
   "metadata": {},
   "outputs": [
    {
     "name": "stdout",
     "output_type": "stream",
     "text": [
      "\n",
      "    Mision a luna\n",
      "    Tiempo total de vuelo: 40 minutos\n",
      "    Combustible restante: 18000main tanque --> 3000 gal restante\n",
      "external tanque --> 15000 gal restante\n",
      "\n"
     ]
    }
   ],
   "source": [
    "def informe_mision_2(destino,*minutos,**reservas_fuel):\n",
    "    reporte = f\"\"\"\n",
    "    Mision a {destino}\n",
    "    Tiempo total de vuelo: {sum(minutos)} minutos\n",
    "    Combustible restante: {sum(reservas_fuel.values())}\"\"\"\n",
    "    for tanque, galones in reservas_fuel.items():\n",
    "        reporte += f\"{tanque} tanque --> {galones} gal restante\\n\"\n",
    "    return reporte\n",
    "print(informe_mision_2(\"luna\",10,15,15,main=3000,external=15000))"
   ]
  }
 ],
 "metadata": {
  "interpreter": {
   "hash": "e7370f93d1d0cde622a1f8e1c04877d8463912d04d973331ad4851f04de6915a"
  },
  "kernelspec": {
   "display_name": "Python 3.10.2 64-bit",
   "language": "python",
   "name": "python3"
  },
  "language_info": {
   "codemirror_mode": {
    "name": "ipython",
    "version": 3
   },
   "file_extension": ".py",
   "mimetype": "text/x-python",
   "name": "python",
   "nbconvert_exporter": "python",
   "pygments_lexer": "ipython3",
   "version": "3.10.2"
  },
  "orig_nbformat": 4
 },
 "nbformat": 4,
 "nbformat_minor": 2
}
