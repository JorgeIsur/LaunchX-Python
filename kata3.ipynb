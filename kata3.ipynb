{
 "cells": [
  {
   "cell_type": "code",
   "execution_count": 1,
   "metadata": {},
   "outputs": [
    {
     "name": "stdout",
     "output_type": "stream",
     "text": [
      "ALERTA, hay un asteroide a alta velocidad\n"
     ]
    }
   ],
   "source": [
    "velocidad = 30\n",
    "if velocidad>25:\n",
    "    print(\"ALERTA, hay un asteroide a alta velocidad\")\n",
    "else:\n",
    "    print(\"No pasa nada\")"
   ]
  },
  {
   "cell_type": "code",
   "execution_count": 2,
   "metadata": {},
   "outputs": [
    {
     "name": "stdout",
     "output_type": "stream",
     "text": [
      "NO hay nada que ver\n"
     ]
    }
   ],
   "source": [
    "velocidad = 19\n",
    "if velocidad>=20:\n",
    "    print(\"Mira, hay una luz en el cielo\")\n",
    "else:\n",
    "    print(\"NO hay nada que ver\")"
   ]
  },
  {
   "cell_type": "code",
   "execution_count": 3,
   "metadata": {},
   "outputs": [
    {
     "name": "stdout",
     "output_type": "stream",
     "text": [
      "Mira, hay una luz en el cielo\n"
     ]
    }
   ],
   "source": [
    "velocidad_asteroide = 25\n",
    "tamaño_asteroide =40\n",
    "if velocidad_asteroide > 25 and tamaño_asteroide>25:\n",
    "    print(\"Alerta, un asteroide se acerca.\")\n",
    "elif velocidad_asteroide>=20:\n",
    "    print(\"Mira, hay una luz en el cielo\")\n",
    "elif tamaño_asteroide<25:\n",
    "    print(\"nada que ver aqui\")\n",
    "else:\n",
    "    print(\"Nada que ver aqui\")"
   ]
  }
 ],
 "metadata": {
  "interpreter": {
   "hash": "e7370f93d1d0cde622a1f8e1c04877d8463912d04d973331ad4851f04de6915a"
  },
  "kernelspec": {
   "display_name": "Python 3.10.2 64-bit",
   "language": "python",
   "name": "python3"
  },
  "language_info": {
   "codemirror_mode": {
    "name": "ipython",
    "version": 3
   },
   "file_extension": ".py",
   "mimetype": "text/x-python",
   "name": "python",
   "nbconvert_exporter": "python",
   "pygments_lexer": "ipython3",
   "version": "3.10.2"
  },
  "orig_nbformat": 4
 },
 "nbformat": 4,
 "nbformat_minor": 2
}
